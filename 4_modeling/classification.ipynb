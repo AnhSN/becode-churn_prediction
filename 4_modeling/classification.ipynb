{
 "cells": [
  {
   "cell_type": "code",
   "execution_count": 80,
   "metadata": {},
   "outputs": [
    {
     "data": {
      "text/html": [
       "<div>\n",
       "<style scoped>\n",
       "    .dataframe tbody tr th:only-of-type {\n",
       "        vertical-align: middle;\n",
       "    }\n",
       "\n",
       "    .dataframe tbody tr th {\n",
       "        vertical-align: top;\n",
       "    }\n",
       "\n",
       "    .dataframe thead th {\n",
       "        text-align: right;\n",
       "    }\n",
       "</style>\n",
       "<table border=\"1\" class=\"dataframe\">\n",
       "  <thead>\n",
       "    <tr style=\"text-align: right;\">\n",
       "      <th></th>\n",
       "      <th>Attrition_Flag</th>\n",
       "      <th>Customer_Age</th>\n",
       "      <th>Gender</th>\n",
       "      <th>Dependent_count</th>\n",
       "      <th>Marital_Status</th>\n",
       "      <th>Months_on_book</th>\n",
       "      <th>Total_Relationship_Count</th>\n",
       "      <th>Months_Inactive_12_mon</th>\n",
       "      <th>Contacts_Count_12_mon</th>\n",
       "      <th>Credit_Limit</th>\n",
       "      <th>...</th>\n",
       "      <th>Income_Category_$120K +</th>\n",
       "      <th>Income_Category_$40K - $60K</th>\n",
       "      <th>Income_Category_$60K - $80K</th>\n",
       "      <th>Income_Category_$80K - $120K</th>\n",
       "      <th>Income_Category_Less than $40K</th>\n",
       "      <th>Income_Category_Unknown</th>\n",
       "      <th>Card_Category_Blue</th>\n",
       "      <th>Card_Category_Gold</th>\n",
       "      <th>Card_Category_Platinum</th>\n",
       "      <th>Card_Category_Silver</th>\n",
       "    </tr>\n",
       "  </thead>\n",
       "  <tbody>\n",
       "    <tr>\n",
       "      <th>10105</th>\n",
       "      <td>Existing Customer</td>\n",
       "      <td>50</td>\n",
       "      <td>0</td>\n",
       "      <td>2</td>\n",
       "      <td>0</td>\n",
       "      <td>40</td>\n",
       "      <td>3</td>\n",
       "      <td>2</td>\n",
       "      <td>3</td>\n",
       "      <td>4003.0</td>\n",
       "      <td>...</td>\n",
       "      <td>0</td>\n",
       "      <td>1</td>\n",
       "      <td>0</td>\n",
       "      <td>0</td>\n",
       "      <td>0</td>\n",
       "      <td>0</td>\n",
       "      <td>1</td>\n",
       "      <td>0</td>\n",
       "      <td>0</td>\n",
       "      <td>0</td>\n",
       "    </tr>\n",
       "    <tr>\n",
       "      <th>10106</th>\n",
       "      <td>Attrited Customer</td>\n",
       "      <td>41</td>\n",
       "      <td>0</td>\n",
       "      <td>2</td>\n",
       "      <td>3</td>\n",
       "      <td>25</td>\n",
       "      <td>4</td>\n",
       "      <td>2</td>\n",
       "      <td>3</td>\n",
       "      <td>4277.0</td>\n",
       "      <td>...</td>\n",
       "      <td>0</td>\n",
       "      <td>1</td>\n",
       "      <td>0</td>\n",
       "      <td>0</td>\n",
       "      <td>0</td>\n",
       "      <td>0</td>\n",
       "      <td>1</td>\n",
       "      <td>0</td>\n",
       "      <td>0</td>\n",
       "      <td>0</td>\n",
       "    </tr>\n",
       "    <tr>\n",
       "      <th>10107</th>\n",
       "      <td>Attrited Customer</td>\n",
       "      <td>44</td>\n",
       "      <td>1</td>\n",
       "      <td>1</td>\n",
       "      <td>1</td>\n",
       "      <td>36</td>\n",
       "      <td>5</td>\n",
       "      <td>3</td>\n",
       "      <td>4</td>\n",
       "      <td>5409.0</td>\n",
       "      <td>...</td>\n",
       "      <td>0</td>\n",
       "      <td>0</td>\n",
       "      <td>0</td>\n",
       "      <td>0</td>\n",
       "      <td>1</td>\n",
       "      <td>0</td>\n",
       "      <td>1</td>\n",
       "      <td>0</td>\n",
       "      <td>0</td>\n",
       "      <td>0</td>\n",
       "    </tr>\n",
       "    <tr>\n",
       "      <th>10108</th>\n",
       "      <td>Attrited Customer</td>\n",
       "      <td>30</td>\n",
       "      <td>0</td>\n",
       "      <td>2</td>\n",
       "      <td>2</td>\n",
       "      <td>36</td>\n",
       "      <td>4</td>\n",
       "      <td>3</td>\n",
       "      <td>3</td>\n",
       "      <td>5281.0</td>\n",
       "      <td>...</td>\n",
       "      <td>0</td>\n",
       "      <td>1</td>\n",
       "      <td>0</td>\n",
       "      <td>0</td>\n",
       "      <td>0</td>\n",
       "      <td>0</td>\n",
       "      <td>1</td>\n",
       "      <td>0</td>\n",
       "      <td>0</td>\n",
       "      <td>0</td>\n",
       "    </tr>\n",
       "    <tr>\n",
       "      <th>10109</th>\n",
       "      <td>Attrited Customer</td>\n",
       "      <td>43</td>\n",
       "      <td>1</td>\n",
       "      <td>2</td>\n",
       "      <td>1</td>\n",
       "      <td>25</td>\n",
       "      <td>6</td>\n",
       "      <td>2</td>\n",
       "      <td>4</td>\n",
       "      <td>10388.0</td>\n",
       "      <td>...</td>\n",
       "      <td>0</td>\n",
       "      <td>0</td>\n",
       "      <td>0</td>\n",
       "      <td>0</td>\n",
       "      <td>1</td>\n",
       "      <td>0</td>\n",
       "      <td>0</td>\n",
       "      <td>0</td>\n",
       "      <td>0</td>\n",
       "      <td>1</td>\n",
       "    </tr>\n",
       "  </tbody>\n",
       "</table>\n",
       "<p>5 rows × 33 columns</p>\n",
       "</div>"
      ],
      "text/plain": [
       "          Attrition_Flag  Customer_Age  Gender  Dependent_count  \\\n",
       "10105  Existing Customer            50       0                2   \n",
       "10106  Attrited Customer            41       0                2   \n",
       "10107  Attrited Customer            44       1                1   \n",
       "10108  Attrited Customer            30       0                2   \n",
       "10109  Attrited Customer            43       1                2   \n",
       "\n",
       "       Marital_Status  Months_on_book  Total_Relationship_Count  \\\n",
       "10105               0              40                         3   \n",
       "10106               3              25                         4   \n",
       "10107               1              36                         5   \n",
       "10108               2              36                         4   \n",
       "10109               1              25                         6   \n",
       "\n",
       "       Months_Inactive_12_mon  Contacts_Count_12_mon  Credit_Limit  ...  \\\n",
       "10105                       2                      3        4003.0  ...   \n",
       "10106                       2                      3        4277.0  ...   \n",
       "10107                       3                      4        5409.0  ...   \n",
       "10108                       3                      3        5281.0  ...   \n",
       "10109                       2                      4       10388.0  ...   \n",
       "\n",
       "       Income_Category_$120K +  Income_Category_$40K - $60K  \\\n",
       "10105                        0                            1   \n",
       "10106                        0                            1   \n",
       "10107                        0                            0   \n",
       "10108                        0                            1   \n",
       "10109                        0                            0   \n",
       "\n",
       "       Income_Category_$60K - $80K  Income_Category_$80K - $120K  \\\n",
       "10105                            0                             0   \n",
       "10106                            0                             0   \n",
       "10107                            0                             0   \n",
       "10108                            0                             0   \n",
       "10109                            0                             0   \n",
       "\n",
       "       Income_Category_Less than $40K  Income_Category_Unknown  \\\n",
       "10105                               0                        0   \n",
       "10106                               0                        0   \n",
       "10107                               1                        0   \n",
       "10108                               0                        0   \n",
       "10109                               1                        0   \n",
       "\n",
       "       Card_Category_Blue  Card_Category_Gold  Card_Category_Platinum  \\\n",
       "10105                   1                   0                       0   \n",
       "10106                   1                   0                       0   \n",
       "10107                   1                   0                       0   \n",
       "10108                   1                   0                       0   \n",
       "10109                   0                   0                       0   \n",
       "\n",
       "       Card_Category_Silver  \n",
       "10105                     0  \n",
       "10106                     0  \n",
       "10107                     0  \n",
       "10108                     0  \n",
       "10109                     1  \n",
       "\n",
       "[5 rows x 33 columns]"
      ]
     },
     "execution_count": 80,
     "metadata": {},
     "output_type": "execute_result"
    }
   ],
   "source": [
    "import pandas as pd\n",
    "import seaborn as sns\n",
    "data = pd.read_csv('../2_data cleaning/Cleaned_data.csv')\n",
    "data = data.drop('Unnamed: 0', axis=1)\n",
    "data.tail()\n"
   ]
  },
  {
   "cell_type": "code",
   "execution_count": 5,
   "metadata": {},
   "outputs": [],
   "source": [
    "# data.columns"
   ]
  },
  {
   "cell_type": "code",
   "execution_count": 74,
   "metadata": {},
   "outputs": [],
   "source": [
    "# data.dtypes"
   ]
  },
  {
   "cell_type": "code",
   "execution_count": 81,
   "metadata": {},
   "outputs": [
    {
     "data": {
      "text/plain": [
       "0    Existing Customer\n",
       "1    Existing Customer\n",
       "2    Existing Customer\n",
       "3    Existing Customer\n",
       "4    Existing Customer\n",
       "Name: Attrition_Flag, dtype: object"
      ]
     },
     "execution_count": 81,
     "metadata": {},
     "output_type": "execute_result"
    }
   ],
   "source": [
    "# Select target and features\n",
    "\n",
    "# Select features\n",
    "features = data.drop(['Attrition_Flag'], axis=1)\n",
    "\n",
    "# Select target\n",
    "target = data['Attrition_Flag']\n",
    "\n",
    "target.head()\n"
   ]
  },
  {
   "cell_type": "code",
   "execution_count": 82,
   "metadata": {},
   "outputs": [],
   "source": [
    "# Label target\n",
    "from sklearn.preprocessing import StandardScaler\n",
    "from sklearn import set_config\n",
    "from sklearn.preprocessing import LabelEncoder\n",
    "set_config(transform_output=\"pandas\")\n",
    "lb = LabelEncoder()\n",
    "\n",
    "lb.fit(target)\n",
    "target_names = lb.classes_ # save the taget names for classification report\n",
    "target_imbalance = target\n",
    "target = lb.transform(target)\n"
   ]
  },
  {
   "attachments": {},
   "cell_type": "markdown",
   "metadata": {},
   "source": [
    "## Plot target imbalance"
   ]
  },
  {
   "cell_type": "code",
   "execution_count": 88,
   "metadata": {},
   "outputs": [
    {
     "data": {
      "text/plain": [
       "Text(0.5, 0.98, 'Imbalance target')"
      ]
     },
     "execution_count": 88,
     "metadata": {},
     "output_type": "execute_result"
    },
    {
     "data": {
      "image/png": "[encoded data removed]",
      "text/plain": [
       "<Figure size 500x500 with 1 Axes>"
      ]
     },
     "metadata": {},
     "output_type": "display_data"
    }
   ],
   "source": [
    "imbalance_graph = sns.displot(data['Attrition_Flag'],stat='percent',color='purple')\n",
    "imbalance_graph.fig.suptitle('Imbalanced target')"
   ]
  },
  {
   "cell_type": "code",
   "execution_count": 51,
   "metadata": {},
   "outputs": [
    {
     "name": "stdout",
     "output_type": "stream",
     "text": [
      "{'Attrited Customer': 0, 'Existing Customer': 1}\n"
     ]
    }
   ],
   "source": [
    "lb_name_mapping = dict(zip(lb.classes_, lb.transform(lb.classes_)))\n",
    "print(lb_name_mapping)"
   ]
  },
  {
   "attachments": {},
   "cell_type": "markdown",
   "metadata": {},
   "source": [
    "## Under and Over Sampling"
   ]
  },
  {
   "cell_type": "code",
   "execution_count": 95,
   "metadata": {},
   "outputs": [],
   "source": [
    "from imblearn.over_sampling import RandomOverSampler\n",
    "from imblearn.under_sampling import RandomUnderSampler\n",
    "ros = RandomOverSampler(random_state=0, sampling_strategy=0.5)\n",
    "\n",
    "X_resampled, y_resampled = ros.fit_resample(features, target)\n"
   ]
  },
  {
   "cell_type": "code",
   "execution_count": 96,
   "metadata": {},
   "outputs": [
    {
     "data": {
      "text/plain": [
       "Text(0.5, 0.98, 'Random Over Sampled target')"
      ]
     },
     "execution_count": 96,
     "metadata": {},
     "output_type": "execute_result"
    },
    {
     "data": {
      "image/png": "[encoded data removed]",
      "text/plain": [
       "<Figure size 500x500 with 1 Axes>"
      ]
     },
     "metadata": {},
     "output_type": "display_data"
    }
   ],
   "source": [
    "target_ROS = lb.inverse_transform(y_resampled)\n",
    "ROS_graph = sns.displot(target_ROS)\n",
    "ROS_graph.fig.suptitle('Random Over Sampled target')"
   ]
  },
  {
   "cell_type": "code",
   "execution_count": 97,
   "metadata": {},
   "outputs": [
    {
     "data": {
      "text/plain": [
       "array([1, 0, 1, ..., 1, 0, 0])"
      ]
     },
     "execution_count": 97,
     "metadata": {},
     "output_type": "execute_result"
    }
   ],
   "source": [
    "# Split the Samples to train and test\n",
    "from sklearn.model_selection import train_test_split\n",
    "X_train, X_test, y_train, y_test = train_test_split(X_resampled, y_resampled, test_size=0.3, random_state=38)\n",
    "y_train"
   ]
  },
  {
   "cell_type": "code",
   "execution_count": 98,
   "metadata": {},
   "outputs": [
    {
     "data": {
      "text/html": [
       "<div>\n",
       "<style scoped>\n",
       "    .dataframe tbody tr th:only-of-type {\n",
       "        vertical-align: middle;\n",
       "    }\n",
       "\n",
       "    .dataframe tbody tr th {\n",
       "        vertical-align: top;\n",
       "    }\n",
       "\n",
       "    .dataframe thead th {\n",
       "        text-align: right;\n",
       "    }\n",
       "</style>\n",
       "<table border=\"1\" class=\"dataframe\">\n",
       "  <thead>\n",
       "    <tr style=\"text-align: right;\">\n",
       "      <th></th>\n",
       "      <th>Customer_Age_scaled</th>\n",
       "      <th>Gender_scaled</th>\n",
       "      <th>Dependent_count_scaled</th>\n",
       "      <th>Marital_Status_scaled</th>\n",
       "      <th>Months_on_book_scaled</th>\n",
       "      <th>Total_Relationship_Count_scaled</th>\n",
       "      <th>Months_Inactive_12_mon_scaled</th>\n",
       "      <th>Contacts_Count_12_mon_scaled</th>\n",
       "      <th>Credit_Limit_scaled</th>\n",
       "      <th>Total_Revolving_Bal_scaled</th>\n",
       "      <th>...</th>\n",
       "      <th>Income_Category_$120K +_scaled</th>\n",
       "      <th>Income_Category_$40K - $60K_scaled</th>\n",
       "      <th>Income_Category_$60K - $80K_scaled</th>\n",
       "      <th>Income_Category_$80K - $120K_scaled</th>\n",
       "      <th>Income_Category_Less than $40K_scaled</th>\n",
       "      <th>Income_Category_Unknown_scaled</th>\n",
       "      <th>Card_Category_Blue_scaled</th>\n",
       "      <th>Card_Category_Gold_scaled</th>\n",
       "      <th>Card_Category_Platinum_scaled</th>\n",
       "      <th>Card_Category_Silver_scaled</th>\n",
       "    </tr>\n",
       "  </thead>\n",
       "  <tbody>\n",
       "    <tr>\n",
       "      <th>8699</th>\n",
       "      <td>0.458818</td>\n",
       "      <td>-1.086091</td>\n",
       "      <td>0.491863</td>\n",
       "      <td>-0.966978</td>\n",
       "      <td>-0.123803</td>\n",
       "      <td>-1.711856</td>\n",
       "      <td>-0.412032</td>\n",
       "      <td>-1.372599</td>\n",
       "      <td>1.161708</td>\n",
       "      <td>1.541935</td>\n",
       "      <td>...</td>\n",
       "      <td>-0.277987</td>\n",
       "      <td>-0.462374</td>\n",
       "      <td>-0.388847</td>\n",
       "      <td>2.383835</td>\n",
       "      <td>-0.748013</td>\n",
       "      <td>-0.355804</td>\n",
       "      <td>0.268497</td>\n",
       "      <td>-0.108157</td>\n",
       "      <td>-0.039675</td>\n",
       "      <td>-0.239173</td>\n",
       "    </tr>\n",
       "    <tr>\n",
       "      <th>10404</th>\n",
       "      <td>-0.802065</td>\n",
       "      <td>-1.086091</td>\n",
       "      <td>0.491863</td>\n",
       "      <td>-0.966978</td>\n",
       "      <td>-0.888070</td>\n",
       "      <td>-1.076684</td>\n",
       "      <td>-0.412032</td>\n",
       "      <td>1.284121</td>\n",
       "      <td>1.113549</td>\n",
       "      <td>-1.235421</td>\n",
       "      <td>...</td>\n",
       "      <td>-0.277987</td>\n",
       "      <td>-0.462374</td>\n",
       "      <td>-0.388847</td>\n",
       "      <td>2.383835</td>\n",
       "      <td>-0.748013</td>\n",
       "      <td>-0.355804</td>\n",
       "      <td>0.268497</td>\n",
       "      <td>-0.108157</td>\n",
       "      <td>-0.039675</td>\n",
       "      <td>-0.239173</td>\n",
       "    </tr>\n",
       "    <tr>\n",
       "      <th>7776</th>\n",
       "      <td>0.963171</td>\n",
       "      <td>-1.086091</td>\n",
       "      <td>0.491863</td>\n",
       "      <td>0.194073</td>\n",
       "      <td>1.659487</td>\n",
       "      <td>-1.076684</td>\n",
       "      <td>0.582652</td>\n",
       "      <td>0.398548</td>\n",
       "      <td>0.292639</td>\n",
       "      <td>1.650053</td>\n",
       "      <td>...</td>\n",
       "      <td>-0.277987</td>\n",
       "      <td>-0.462374</td>\n",
       "      <td>-0.388847</td>\n",
       "      <td>2.383835</td>\n",
       "      <td>-0.748013</td>\n",
       "      <td>-0.355804</td>\n",
       "      <td>0.268497</td>\n",
       "      <td>-0.108157</td>\n",
       "      <td>-0.039675</td>\n",
       "      <td>-0.239173</td>\n",
       "    </tr>\n",
       "    <tr>\n",
       "      <th>12699</th>\n",
       "      <td>0.963171</td>\n",
       "      <td>0.920733</td>\n",
       "      <td>-1.069896</td>\n",
       "      <td>-0.966978</td>\n",
       "      <td>-0.251181</td>\n",
       "      <td>0.828833</td>\n",
       "      <td>-0.412032</td>\n",
       "      <td>-0.487025</td>\n",
       "      <td>-0.608279</td>\n",
       "      <td>1.266408</td>\n",
       "      <td>...</td>\n",
       "      <td>-0.277987</td>\n",
       "      <td>-0.462374</td>\n",
       "      <td>-0.388847</td>\n",
       "      <td>-0.419492</td>\n",
       "      <td>1.336875</td>\n",
       "      <td>-0.355804</td>\n",
       "      <td>0.268497</td>\n",
       "      <td>-0.108157</td>\n",
       "      <td>-0.039675</td>\n",
       "      <td>-0.239173</td>\n",
       "    </tr>\n",
       "    <tr>\n",
       "      <th>5416</th>\n",
       "      <td>-0.045535</td>\n",
       "      <td>0.920733</td>\n",
       "      <td>-0.289017</td>\n",
       "      <td>1.355125</td>\n",
       "      <td>-0.123803</td>\n",
       "      <td>1.464005</td>\n",
       "      <td>-0.412032</td>\n",
       "      <td>-1.372599</td>\n",
       "      <td>-0.254965</td>\n",
       "      <td>0.332872</td>\n",
       "      <td>...</td>\n",
       "      <td>-0.277987</td>\n",
       "      <td>2.162753</td>\n",
       "      <td>-0.388847</td>\n",
       "      <td>-0.419492</td>\n",
       "      <td>-0.748013</td>\n",
       "      <td>-0.355804</td>\n",
       "      <td>0.268497</td>\n",
       "      <td>-0.108157</td>\n",
       "      <td>-0.039675</td>\n",
       "      <td>-0.239173</td>\n",
       "    </tr>\n",
       "  </tbody>\n",
       "</table>\n",
       "<p>5 rows × 32 columns</p>\n",
       "</div>"
      ],
      "text/plain": [
       "       Customer_Age_scaled  Gender_scaled  Dependent_count_scaled  \\\n",
       "8699              0.458818      -1.086091                0.491863   \n",
       "10404            -0.802065      -1.086091                0.491863   \n",
       "7776              0.963171      -1.086091                0.491863   \n",
       "12699             0.963171       0.920733               -1.069896   \n",
       "5416             -0.045535       0.920733               -0.289017   \n",
       "\n",
       "       Marital_Status_scaled  Months_on_book_scaled  \\\n",
       "8699               -0.966978              -0.123803   \n",
       "10404              -0.966978              -0.888070   \n",
       "7776                0.194073               1.659487   \n",
       "12699              -0.966978              -0.251181   \n",
       "5416                1.355125              -0.123803   \n",
       "\n",
       "       Total_Relationship_Count_scaled  Months_Inactive_12_mon_scaled  \\\n",
       "8699                         -1.711856                      -0.412032   \n",
       "10404                        -1.076684                      -0.412032   \n",
       "7776                         -1.076684                       0.582652   \n",
       "12699                         0.828833                      -0.412032   \n",
       "5416                          1.464005                      -0.412032   \n",
       "\n",
       "       Contacts_Count_12_mon_scaled  Credit_Limit_scaled  \\\n",
       "8699                      -1.372599             1.161708   \n",
       "10404                      1.284121             1.113549   \n",
       "7776                       0.398548             0.292639   \n",
       "12699                     -0.487025            -0.608279   \n",
       "5416                      -1.372599            -0.254965   \n",
       "\n",
       "       Total_Revolving_Bal_scaled  ...  Income_Category_$120K +_scaled  \\\n",
       "8699                     1.541935  ...                       -0.277987   \n",
       "10404                   -1.235421  ...                       -0.277987   \n",
       "7776                     1.650053  ...                       -0.277987   \n",
       "12699                    1.266408  ...                       -0.277987   \n",
       "5416                     0.332872  ...                       -0.277987   \n",
       "\n",
       "       Income_Category_$40K - $60K_scaled  Income_Category_$60K - $80K_scaled  \\\n",
       "8699                            -0.462374                           -0.388847   \n",
       "10404                           -0.462374                           -0.388847   \n",
       "7776                            -0.462374                           -0.388847   \n",
       "12699                           -0.462374                           -0.388847   \n",
       "5416                             2.162753                           -0.388847   \n",
       "\n",
       "       Income_Category_$80K - $120K_scaled  \\\n",
       "8699                              2.383835   \n",
       "10404                             2.383835   \n",
       "7776                              2.383835   \n",
       "12699                            -0.419492   \n",
       "5416                             -0.419492   \n",
       "\n",
       "       Income_Category_Less than $40K_scaled  Income_Category_Unknown_scaled  \\\n",
       "8699                               -0.748013                       -0.355804   \n",
       "10404                              -0.748013                       -0.355804   \n",
       "7776                               -0.748013                       -0.355804   \n",
       "12699                               1.336875                       -0.355804   \n",
       "5416                               -0.748013                       -0.355804   \n",
       "\n",
       "       Card_Category_Blue_scaled  Card_Category_Gold_scaled  \\\n",
       "8699                    0.268497                  -0.108157   \n",
       "10404                   0.268497                  -0.108157   \n",
       "7776                    0.268497                  -0.108157   \n",
       "12699                   0.268497                  -0.108157   \n",
       "5416                    0.268497                  -0.108157   \n",
       "\n",
       "       Card_Category_Platinum_scaled  Card_Category_Silver_scaled  \n",
       "8699                       -0.039675                    -0.239173  \n",
       "10404                      -0.039675                    -0.239173  \n",
       "7776                       -0.039675                    -0.239173  \n",
       "12699                      -0.039675                    -0.239173  \n",
       "5416                       -0.039675                    -0.239173  \n",
       "\n",
       "[5 rows x 32 columns]"
      ]
     },
     "execution_count": 98,
     "metadata": {},
     "output_type": "execute_result"
    }
   ],
   "source": [
    "# Standardisation\n",
    "from sklearn.preprocessing import StandardScaler\n",
    "sc = StandardScaler()\n",
    "X_train = sc.fit_transform(X_train)\n",
    "X_test = sc.fit_transform(X_test)\n",
    "\n",
    "# Build X_train df for data visualization\n",
    "X_train_df = pd.DataFrame(X_train, columns=features.columns).add_suffix('_scaled')\n",
    "X_train_df.head()"
   ]
  },
  {
   "cell_type": "code",
   "execution_count": 99,
   "metadata": {},
   "outputs": [
    {
     "name": "stdout",
     "output_type": "stream",
     "text": [
      "Fitting 10 folds for each of 9 candidates, totalling 90 fits\n",
      "Best result for 1 neighbors\n",
      "with an accuracy of 90.6 %\n"
     ]
    }
   ],
   "source": [
    "# Use a KNN model\n",
    "from sklearn.neighbors import KNeighborsClassifier\n",
    "from sklearn.model_selection import GridSearchCV\n",
    "\n",
    "knn = KNeighborsClassifier()\n",
    "k_range = list(range(1,10))\n",
    "param_grid = dict(n_neighbors=k_range)\n",
    "\n",
    "grid = GridSearchCV(knn, param_grid, cv=10, scoring='accuracy', return_train_score=False, verbose=1)\n",
    "# Train the model with the train data\n",
    "grid_search = grid.fit(X_train, y_train)\n",
    "\n",
    "# print(grid_search.best_params_)\n",
    "# print(grid_search.best_score_ *100)\n",
    "print(f\"Best result for {grid_search.best_params_.get('n_neighbors')} neighbors\\nwith an accuracy of {round(grid_search.best_score_*100, 2)} %\")\n",
    "# # Make a predition on the X_test datas\n",
    "# pred = knn.predict(X_test)\n",
    "# # Compare the prediction with the y_test\n",
    "# accuracy = knn.score(X_test, y_test)\n",
    "# print(f'Test accuracy:{accuracy}')\n"
   ]
  },
  {
   "cell_type": "code",
   "execution_count": 100,
   "metadata": {},
   "outputs": [
    {
     "name": "stdout",
     "output_type": "stream",
     "text": [
      "Test sample accuracy: 0.921\n"
     ]
    }
   ],
   "source": [
    "# Run the model with the best parameters\n",
    "optimal_kn = grid_search.best_params_.get('n_neighbors')\n",
    "\n",
    "knn_optimal = KNeighborsClassifier(n_neighbors=optimal_kn)\n",
    "knn_optimal.fit(X_train, y_train)\n",
    "accuracy_test = round(knn_optimal.score(X_test, y_test),3)   # model predict on X_test, and compare pred to y_test\n",
    "print(f'Test sample accuracy: {accuracy_test}')"
   ]
  },
  {
   "cell_type": "code",
   "execution_count": 101,
   "metadata": {},
   "outputs": [
    {
     "name": "stdout",
     "output_type": "stream",
     "text": [
      "                   precision    recall  f1-score   support\n",
      "\n",
      "Attrited Customer       0.86      0.92      0.89      1308\n",
      "Existing Customer       0.96      0.92      0.94      2510\n",
      "\n",
      "         accuracy                           0.92      3818\n",
      "        macro avg       0.91      0.92      0.91      3818\n",
      "     weighted avg       0.92      0.92      0.92      3818\n",
      "\n"
     ]
    }
   ],
   "source": [
    "# Evaluate your model\n",
    "from sklearn.metrics import classification_report\n",
    "# \"Attrition_Flag\": {\"Existing Customer\":1 , \"Attrited Customer\": 0}}\n",
    "pred = knn_optimal.predict(X_test)\n",
    "\n",
    "print(classification_report(y_test, pred, target_names=target_names))"
   ]
  },
  {
   "cell_type": "code",
   "execution_count": 67,
   "metadata": {},
   "outputs": [
    {
     "ename": "ModuleNotFoundError",
     "evalue": "No module named 'seaborn'",
     "output_type": "error",
     "traceback": [
      "\u001b[1;31m---------------------------------------------------------------------------\u001b[0m",
      "\u001b[1;31mModuleNotFoundError\u001b[0m                       Traceback (most recent call last)",
      "Cell \u001b[1;32mIn[67], line 1\u001b[0m\n\u001b[1;32m----> 1\u001b[0m \u001b[39mimport\u001b[39;00m \u001b[39mseaborn\u001b[39;00m \u001b[39mas\u001b[39;00m \u001b[39msns\u001b[39;00m\n\u001b[0;32m      2\u001b[0m \u001b[39mimport\u001b[39;00m \u001b[39mmatplotlib\u001b[39;00m\u001b[39m.\u001b[39;00m\u001b[39mpyplot\u001b[39;00m \u001b[39mas\u001b[39;00m \u001b[39mplt\u001b[39;00m\n\u001b[0;32m      4\u001b[0m \u001b[39m# Convert the sparse matrix to a pandas DataFrame\u001b[39;00m\n",
      "\u001b[1;31mModuleNotFoundError\u001b[0m: No module named 'seaborn'"
     ]
    }
   ],
   "source": [
    "import seaborn as sns\n",
    "import matplotlib.pyplot as plt\n",
    "\n",
    "# Convert the sparse matrix to a pandas DataFrame\n",
    "graph_df = knn_optimal.kneighbors_graph().toarray()\n",
    "\n",
    "# Plot the graph using heatmap function of seaborn\n",
    "sns.heatmap(graph_df, cmap=\"Blues\")\n",
    "plt.show()\n"
   ]
  }
 ],
 "metadata": {
  "kernelspec": {
   "display_name": "Python 3",
   "language": "python",
   "name": "python3"
  },
  "language_info": {
   "codemirror_mode": {
    "name": "ipython",
    "version": 3
   },
   "file_extension": ".py",
   "mimetype": "text/x-python",
   "name": "python",
   "nbconvert_exporter": "python",
   "pygments_lexer": "ipython3",
   "version": "3.11.0"
  },
  "orig_nbformat": 4,
  "vscode": {
   "interpreter": {
    "hash": "c261aea317cc0286b3b3261fbba9abdec21eaa57589985bb7a274bf54d6cc0a7"
   }
  }
 },
 "nbformat": 4,
 "nbformat_minor": 2
}

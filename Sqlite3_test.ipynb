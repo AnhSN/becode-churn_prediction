{
 "cells": [
  {
   "cell_type": "code",
   "execution_count": 6,
   "metadata": {},
   "outputs": [],
   "source": [
    "import sqlite3 \n",
    "import pandas as pd\n",
    "\n",
    "connector = sqlite3.connect(\"DB.db\")\n",
    "\n",
    "url = \"./1_data storage/BankChurners.csv\"\n",
    "df = pd.read_csv(url)\n",
    "\n",
    "# Write the data in a SQL DB\n",
    "df.to_sql(\"raw_data\", connector, if_exists=\"replace\")\n",
    "\n",
    "# Create a Cursor object with the connector\n",
    "cursor = connector.cursor()\n",
    "\n",
    "#for row in cursor.execute(\"SELECT * FROM raw_data\"):\n",
    "#    print(row)\n",
    "\n",
    "#Close the connection to the DB\n",
    "connector.close()"
   ]
  }
 ],
 "metadata": {
  "kernelspec": {
   "display_name": "Python 3",
   "language": "python",
   "name": "python3"
  },
  "language_info": {
   "codemirror_mode": {
    "name": "ipython",
    "version": 3
   },
   "file_extension": ".py",
   "mimetype": "text/x-python",
   "name": "python",
   "nbconvert_exporter": "python",
   "pygments_lexer": "ipython3",
   "version": "3.11.0"
  },
  "orig_nbformat": 4,
  "vscode": {
   "interpreter": {
    "hash": "aee8b7b246df8f9039afb4144a1f6fd8d2ca17a180786b69acc140d282b71a49"
   }
  }
 },
 "nbformat": 4,
 "nbformat_minor": 2
}

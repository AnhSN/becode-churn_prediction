{
 "cells": [
  {
   "attachments": {},
   "cell_type": "markdown",
   "metadata": {},
   "source": [
    "# Creating the DB with SQLalchemy from scratch"
   ]
  },
  {
   "cell_type": "code",
   "execution_count": 90,
   "metadata": {},
   "outputs": [
    {
     "name": "stdout",
     "output_type": "stream",
     "text": [
      "(10127, 23)\n"
     ]
    }
   ],
   "source": [
    "from sqlalchemy import Column, Integer, String, CHAR, Float\n",
    "from sqlalchemy import create_engine, MetaData, Table\n",
    "from sqlalchemy.orm import declarative_base, sessionmaker\n",
    "import pandas as pd\n",
    "\n",
    "df = pd.read_csv('2_data cleaning/BankChurners.csv')\n",
    "print(df.shape)\n",
    "\n",
    "# Declare the base class\n",
    "Base = declarative_base()\n",
    "\n",
    "# Creating the DB from scratch\n",
    "class User(Base):\n",
    "    __tablename__ = \"raw_data\"\n",
    "\n",
    "    clientnum = Column('CLIENTNUM', Integer, primary_key=True)\n",
    "    attrition_flag = Column('Attrition_Flag', String, nullable=False)\n",
    "    customer_age = Column('Customer_Age', Integer, nullable=False)\n",
    "    #CHAR because it's a unique character and not a string\n",
    "    gender = Column('Gender', CHAR, nullable=False)\n",
    "    dependant_count = Column('Dependant_Count', Integer, nullable=False)\n",
    "    education_level = Column('Education_Level', String, nullable=False)\n",
    "    marital_status = Column('Marital_Status', String, nullable=False)\n",
    "    income_category = Column('Income_Category', String, nullable=False)\n",
    "    card_category = Column('Card_Category', String, nullable=False)\n",
    "    month_on_book = Column('Month_On_Book', Integer, nullable=False)\n",
    "    total_relationship_count = Column('Total_Relationship_Count', Integer, nullable=False)\n",
    "    months_inactive_12_mon = Column('Months_Inactive_12_Mon', Integer, nullable=False)\n",
    "    contacts_count_12_mon = Column('Contacts_Count_12_Mon', Integer, nullable=False)\n",
    "    credit_limit = Column('Credit_Limit', Float, nullable=False)\n",
    "    total_revolving_bal = Column('Total_Revolving_Bal', Integer, nullable=False)\n",
    "    avg_open_to_buy = Column('Avg_Open_To_Buy', Float, nullable=False)\n",
    "    total_amt_chng_Q4_Q1 = Column('Total_Amt_Chng_Q4_Q1', Float, nullable=False)\n",
    "    total_trans_amt = Column('Total_Trans_Amt', Integer, nullable=False)\n",
    "    total_trans_ct = Column('Total_Trans_Ct', Integer, nullable=False)\n",
    "    total_ct_chng_Q4_Q1 = Column('Total_Ct_Chng_Q4_Q1', Float, nullable=False)\n",
    "    avg_utilization_ratio = Column('Avg_Utilization_Ratio', Float, nullable=False)\n",
    "    NBC1 = Column('Naive_Bayes_Classifier_Attrition_Flag_Card_Category_Contacts_Count_12_mon_Dependent_count_Education_Level_Months_Inactive_12_mon_1', Float, nullable=False)\n",
    "    NBC2 = Column('Naive_Bayes_Classifier_Attrition_Flag_Card_Category_Contacts_Count_12_mon_Dependent_count_Education_Level_Months_Inactive_12_mon_2', Float, nullable=False)\n",
    "    \n",
    "    def __init__(self, clientnum : int, attrition_flag : str, customer_age : int, gender : str, dependant_count : int, education_level : str,\n",
    "                    marital_status : str, income_category : str, card_category : str, month_on_book : int, total_relationshiop_count : int,\n",
    "                    months_inactive_12_mon : int, contacts_count_12_mon : int, credit_limit : float, total_revolving_bal : int, \n",
    "                    avg_open_to_buy : float, total_amt_chng_Q4_Q1 : float, total_trans_amt : int, total_trans_ct : int, total_ct_chng_Q4_Q1 : float,\n",
    "                    avg_utilization_ratio : float, NBC1 : float, NBC2 : float):\n",
    "        self.clientnum = clientnum\n",
    "        self.attrition_flag = attrition_flag\n",
    "        self.customer_age = customer_age\n",
    "        self.gender = gender\n",
    "        self.dependant_count = dependant_count\n",
    "        self.education_level = education_level\n",
    "        self.marital_status = marital_status\n",
    "        self.income_category = income_category\n",
    "        self.card_category = card_category\n",
    "        self.month_on_book = month_on_book\n",
    "        self.total_relationship_count = total_relationshiop_count\n",
    "        self.months_inactive_12_mon = months_inactive_12_mon\n",
    "        self.contacts_count_12_mon = contacts_count_12_mon\n",
    "        self.credit_limit = credit_limit\n",
    "        self.total_revolving_bal = total_revolving_bal\n",
    "        self.avg_open_to_buy = avg_open_to_buy\n",
    "        self.total_amt_chng_Q4_Q1 = total_amt_chng_Q4_Q1\n",
    "        self.total_trans_amt = total_trans_amt\n",
    "        self.total_trans_ct = total_trans_ct\n",
    "        self.total_ct_chng_Q4_Q1 = total_ct_chng_Q4_Q1\n",
    "        self.avg_utilization_ratio = avg_utilization_ratio\n",
    "        self.NBC1 = NBC1\n",
    "        self.NBC2 = NBC2\n",
    "\n",
    "# Create the engine to interact with the DB\n",
    "engine = create_engine('sqlite:///DB_from_scratch.db')\n",
    "\n",
    "# Create database following parameters defined on `Base` => this step close the creation of the DB but it's empty !\n",
    "Base.metadata.create_all(engine)\n"
   ]
  },
  {
   "attachments": {},
   "cell_type": "markdown",
   "metadata": {},
   "source": [
    "# Fill the DB with the raw data from the original csv"
   ]
  },
  {
   "cell_type": "code",
   "execution_count": 91,
   "metadata": {},
   "outputs": [
    {
     "data": {
      "text/html": [
       "<div>\n",
       "<style scoped>\n",
       "    .dataframe tbody tr th:only-of-type {\n",
       "        vertical-align: middle;\n",
       "    }\n",
       "\n",
       "    .dataframe tbody tr th {\n",
       "        vertical-align: top;\n",
       "    }\n",
       "\n",
       "    .dataframe thead th {\n",
       "        text-align: right;\n",
       "    }\n",
       "</style>\n",
       "<table border=\"1\" class=\"dataframe\">\n",
       "  <thead>\n",
       "    <tr style=\"text-align: right;\">\n",
       "      <th></th>\n",
       "      <th>CLIENTNUM</th>\n",
       "      <th>Attrition_Flag</th>\n",
       "      <th>Customer_Age</th>\n",
       "      <th>Gender</th>\n",
       "      <th>Dependent_count</th>\n",
       "      <th>Education_Level</th>\n",
       "      <th>Marital_Status</th>\n",
       "      <th>Income_Category</th>\n",
       "      <th>Card_Category</th>\n",
       "      <th>Months_on_book</th>\n",
       "      <th>...</th>\n",
       "      <th>Credit_Limit</th>\n",
       "      <th>Total_Revolving_Bal</th>\n",
       "      <th>Avg_Open_To_Buy</th>\n",
       "      <th>Total_Amt_Chng_Q4_Q1</th>\n",
       "      <th>Total_Trans_Amt</th>\n",
       "      <th>Total_Trans_Ct</th>\n",
       "      <th>Total_Ct_Chng_Q4_Q1</th>\n",
       "      <th>Avg_Utilization_Ratio</th>\n",
       "      <th>Naive_Bayes_Classifier_Attrition_Flag_Card_Category_Contacts_Count_12_mon_Dependent_count_Education_Level_Months_Inactive_12_mon_1</th>\n",
       "      <th>Naive_Bayes_Classifier_Attrition_Flag_Card_Category_Contacts_Count_12_mon_Dependent_count_Education_Level_Months_Inactive_12_mon_2</th>\n",
       "    </tr>\n",
       "  </thead>\n",
       "  <tbody>\n",
       "    <tr>\n",
       "      <th>0</th>\n",
       "      <td>768805383</td>\n",
       "      <td>Existing Customer</td>\n",
       "      <td>45</td>\n",
       "      <td>M</td>\n",
       "      <td>3</td>\n",
       "      <td>High School</td>\n",
       "      <td>Married</td>\n",
       "      <td>$60K - $80K</td>\n",
       "      <td>Blue</td>\n",
       "      <td>39</td>\n",
       "      <td>...</td>\n",
       "      <td>12691.0</td>\n",
       "      <td>777</td>\n",
       "      <td>11914.0</td>\n",
       "      <td>1.335</td>\n",
       "      <td>1144</td>\n",
       "      <td>42</td>\n",
       "      <td>1.625</td>\n",
       "      <td>0.061</td>\n",
       "      <td>0.000093</td>\n",
       "      <td>0.99991</td>\n",
       "    </tr>\n",
       "  </tbody>\n",
       "</table>\n",
       "<p>1 rows × 23 columns</p>\n",
       "</div>"
      ],
      "text/plain": [
       "   CLIENTNUM     Attrition_Flag  Customer_Age Gender  Dependent_count  \\\n",
       "0  768805383  Existing Customer            45      M                3   \n",
       "\n",
       "  Education_Level Marital_Status Income_Category Card_Category  \\\n",
       "0     High School        Married     $60K - $80K          Blue   \n",
       "\n",
       "   Months_on_book  ...  Credit_Limit  Total_Revolving_Bal  Avg_Open_To_Buy  \\\n",
       "0              39  ...       12691.0                  777          11914.0   \n",
       "\n",
       "   Total_Amt_Chng_Q4_Q1  Total_Trans_Amt  Total_Trans_Ct  Total_Ct_Chng_Q4_Q1  \\\n",
       "0                 1.335             1144              42                1.625   \n",
       "\n",
       "   Avg_Utilization_Ratio  \\\n",
       "0                  0.061   \n",
       "\n",
       "   Naive_Bayes_Classifier_Attrition_Flag_Card_Category_Contacts_Count_12_mon_Dependent_count_Education_Level_Months_Inactive_12_mon_1  \\\n",
       "0                                           0.000093                                                                                    \n",
       "\n",
       "   Naive_Bayes_Classifier_Attrition_Flag_Card_Category_Contacts_Count_12_mon_Dependent_count_Education_Level_Months_Inactive_12_mon_2  \n",
       "0                                            0.99991                                                                                   \n",
       "\n",
       "[1 rows x 23 columns]"
      ]
     },
     "metadata": {},
     "output_type": "display_data"
    }
   ],
   "source": [
    "df = pd.read_csv(\"2_data cleaning/BankChurners.csv\")\n",
    "\n",
    "# Bind the engine to the metadata of the Base class so that the\n",
    "# declaratives can be accessed through a DBSession instance\n",
    "Base.metadata.bind = engine\n",
    "DBsession = sessionmaker(bind=engine)\n",
    "session = DBsession()\n",
    "\n",
    "# Going trough the whole df to enter each df's column in the DB's related column where each column is a tuple with the iterrows function\n",
    "display(df.head(1))\n",
    "for row in df.iterrows():\n",
    "    raw_data = User(row[1][0],row[1][1],row[1][2],row[1][3],row[1][4],row[1][5],row[1][6],row[1][7],row[1][8],row[1][9],row[1][10],row[1][11],\n",
    "    row[1][12],row[1][13],row[1][14],row[1][15],row[1][16],row[1][17],row[1][18],row[1][19],row[1][20],row[1][21],row[1][22])\n",
    "    session.add(raw_data)\n",
    "    session.commit()\n",
    "\n",
    "\n",
    "session.close()\n"
   ]
  },
  {
   "cell_type": "code",
   "execution_count": null,
   "metadata": {},
   "outputs": [],
   "source": [
    "    Column(\"Attrition_Flag\", String),\n",
    "    Column(\"Customer_Age\", Integer),\n",
    "    Column(\"Gender\", CHAR),\n",
    "    Column(\"Dependent_Count\", Integer),\n",
    "    Column('Education_Level', String),\n",
    "    Column('Marital_Status', String),\n",
    "    Column('Income_Category', String),\n",
    "    Column('Card_Category', String),\n",
    "    Column('Months_on_book', Integer),\n",
    "    Column('Total_Relationship_Count', Integer),\n",
    "    Column('Month_Inactive_12_mon', Integer),\n",
    "    Column('Contacts_Count_12_mon', Integer),\n",
    "    Column('Credit_Limit', Float),\n",
    "    Column('Total_Revolving_Bal', Integer),\n",
    "    Column('Total_Amt_Chng_Q4_Q1', Float),\n",
    "    Column('Total_Trans_Amt', Integer),\n",
    "    Column('Total_Trans_Ct', Integer),\n",
    "    Column('Total_Ct_Chng_Q4_Q1', Float),\n",
    "    Column('Avg_Utilization_Ratio', Float))"
   ]
  },
  {
   "attachments": {},
   "cell_type": "markdown",
   "metadata": {},
   "source": [
    "# Create the table with the cleaned csv file from Anil's work"
   ]
  },
  {
   "cell_type": "code",
   "execution_count": 92,
   "metadata": {},
   "outputs": [
    {
     "ename": "ArgumentError",
     "evalue": "Mapper Mapper[User_2(cleaned_data)] could not assemble any primary key columns for mapped table 'cleaned_data'",
     "output_type": "error",
     "traceback": [
      "\u001b[0;31m---------------------------------------------------------------------------\u001b[0m",
      "\u001b[0;31mArgumentError\u001b[0m                             Traceback (most recent call last)",
      "Cell \u001b[0;32mIn[92], line 1\u001b[0m\n\u001b[0;32m----> 1\u001b[0m \u001b[39mclass\u001b[39;49;00m \u001b[39mUser_2\u001b[39;49;00m(Base):\n\u001b[1;32m      2\u001b[0m     __tablename__ \u001b[39m=\u001b[39;49m \u001b[39m\"\u001b[39;49m\u001b[39mcleaned_data\u001b[39;49m\u001b[39m\"\u001b[39;49m\n\u001b[1;32m      4\u001b[0m     attrition_flag \u001b[39m=\u001b[39;49m Column(\u001b[39m'\u001b[39;49m\u001b[39mAttrition_Flag\u001b[39;49m\u001b[39m'\u001b[39;49m, String, nullable\u001b[39m=\u001b[39;49m\u001b[39mFalse\u001b[39;49;00m)\n",
      "File \u001b[0;32m/Library/Frameworks/Python.framework/Versions/3.11/lib/python3.11/site-packages/sqlalchemy/orm/decl_api.py:199\u001b[0m, in \u001b[0;36mDeclarativeMeta.__init__\u001b[0;34m(cls, classname, bases, dict_, **kw)\u001b[0m\n\u001b[1;32m    196\u001b[0m         \u001b[39mcls\u001b[39m\u001b[39m.\u001b[39m_sa_registry \u001b[39m=\u001b[39m reg\n\u001b[1;32m    198\u001b[0m \u001b[39mif\u001b[39;00m \u001b[39mnot\u001b[39;00m \u001b[39mcls\u001b[39m\u001b[39m.\u001b[39m\u001b[39m__dict__\u001b[39m\u001b[39m.\u001b[39mget(\u001b[39m\"\u001b[39m\u001b[39m__abstract__\u001b[39m\u001b[39m\"\u001b[39m, \u001b[39mFalse\u001b[39;00m):\n\u001b[0;32m--> 199\u001b[0m     _as_declarative(reg, \u001b[39mcls\u001b[39;49m, dict_)\n\u001b[1;32m    200\u001b[0m \u001b[39mtype\u001b[39m\u001b[39m.\u001b[39m\u001b[39m__init__\u001b[39m(\u001b[39mcls\u001b[39m, classname, bases, dict_)\n",
      "File \u001b[0;32m/Library/Frameworks/Python.framework/Versions/3.11/lib/python3.11/site-packages/sqlalchemy/orm/decl_base.py:248\u001b[0m, in \u001b[0;36m_as_declarative\u001b[0;34m(registry, cls, dict_)\u001b[0m\n\u001b[1;32m    242\u001b[0m \u001b[39mdef\u001b[39;00m \u001b[39m_as_declarative\u001b[39m(\n\u001b[1;32m    243\u001b[0m     registry: _RegistryType, \u001b[39mcls\u001b[39m: Type[Any], dict_: _ClassDict\n\u001b[1;32m    244\u001b[0m ) \u001b[39m-\u001b[39m\u001b[39m>\u001b[39m Optional[_MapperConfig]:\n\u001b[1;32m    245\u001b[0m \n\u001b[1;32m    246\u001b[0m     \u001b[39m# declarative scans the class for attributes.  no table or mapper\u001b[39;00m\n\u001b[1;32m    247\u001b[0m     \u001b[39m# args passed separately.\u001b[39;00m\n\u001b[0;32m--> 248\u001b[0m     \u001b[39mreturn\u001b[39;00m _MapperConfig\u001b[39m.\u001b[39;49msetup_mapping(registry, \u001b[39mcls\u001b[39;49m, dict_, \u001b[39mNone\u001b[39;49;00m, {})\n",
      "File \u001b[0;32m/Library/Frameworks/Python.framework/Versions/3.11/lib/python3.11/site-packages/sqlalchemy/orm/decl_base.py:329\u001b[0m, in \u001b[0;36m_MapperConfig.setup_mapping\u001b[0;34m(cls, registry, cls_, dict_, table, mapper_kw)\u001b[0m\n\u001b[1;32m    325\u001b[0m     \u001b[39mreturn\u001b[39;00m _DeferredMapperConfig(\n\u001b[1;32m    326\u001b[0m         registry, cls_, dict_, table, mapper_kw\n\u001b[1;32m    327\u001b[0m     )\n\u001b[1;32m    328\u001b[0m \u001b[39melse\u001b[39;00m:\n\u001b[0;32m--> 329\u001b[0m     \u001b[39mreturn\u001b[39;00m _ClassScanMapperConfig(\n\u001b[1;32m    330\u001b[0m         registry, cls_, dict_, table, mapper_kw\n\u001b[1;32m    331\u001b[0m     )\n",
      "File \u001b[0;32m/Library/Frameworks/Python.framework/Versions/3.11/lib/python3.11/site-packages/sqlalchemy/orm/decl_base.py:582\u001b[0m, in \u001b[0;36m_ClassScanMapperConfig.__init__\u001b[0;34m(self, registry, cls_, dict_, table, mapper_kw)\u001b[0m\n\u001b[1;32m    578\u001b[0m \u001b[39mself\u001b[39m\u001b[39m.\u001b[39m_setup_table(table)\n\u001b[1;32m    580\u001b[0m \u001b[39mself\u001b[39m\u001b[39m.\u001b[39m_setup_inheriting_columns(mapper_kw)\n\u001b[0;32m--> 582\u001b[0m \u001b[39mself\u001b[39;49m\u001b[39m.\u001b[39;49m_early_mapping(mapper_kw)\n",
      "File \u001b[0;32m/Library/Frameworks/Python.framework/Versions/3.11/lib/python3.11/site-packages/sqlalchemy/orm/decl_base.py:371\u001b[0m, in \u001b[0;36m_MapperConfig._early_mapping\u001b[0;34m(self, mapper_kw)\u001b[0m\n\u001b[1;32m    370\u001b[0m \u001b[39mdef\u001b[39;00m \u001b[39m_early_mapping\u001b[39m(\u001b[39mself\u001b[39m, mapper_kw: _MapperKwArgs) \u001b[39m-\u001b[39m\u001b[39m>\u001b[39m \u001b[39mNone\u001b[39;00m:\n\u001b[0;32m--> 371\u001b[0m     \u001b[39mself\u001b[39;49m\u001b[39m.\u001b[39;49mmap(mapper_kw)\n",
      "File \u001b[0;32m/Library/Frameworks/Python.framework/Versions/3.11/lib/python3.11/site-packages/sqlalchemy/orm/decl_base.py:1888\u001b[0m, in \u001b[0;36m_ClassScanMapperConfig.map\u001b[0;34m(self, mapper_kw)\u001b[0m\n\u001b[1;32m   1883\u001b[0m \u001b[39melse\u001b[39;00m:\n\u001b[1;32m   1884\u001b[0m     mapper_cls \u001b[39m=\u001b[39m Mapper\n\u001b[1;32m   1886\u001b[0m \u001b[39mreturn\u001b[39;00m \u001b[39mself\u001b[39m\u001b[39m.\u001b[39mset_cls_attribute(\n\u001b[1;32m   1887\u001b[0m     \u001b[39m\"\u001b[39m\u001b[39m__mapper__\u001b[39m\u001b[39m\"\u001b[39m,\n\u001b[0;32m-> 1888\u001b[0m     mapper_cls(\u001b[39mself\u001b[39;49m\u001b[39m.\u001b[39;49mcls, \u001b[39mself\u001b[39;49m\u001b[39m.\u001b[39;49mlocal_table, \u001b[39m*\u001b[39;49m\u001b[39m*\u001b[39;49m\u001b[39mself\u001b[39;49m\u001b[39m.\u001b[39;49mmapper_args),\n\u001b[1;32m   1889\u001b[0m )\n",
      "File \u001b[0;32m<string>:2\u001b[0m, in \u001b[0;36m__init__\u001b[0;34m(self, class_, local_table, properties, primary_key, non_primary, inherits, inherit_condition, inherit_foreign_keys, always_refresh, version_id_col, version_id_generator, polymorphic_on, _polymorphic_map, polymorphic_identity, concrete, with_polymorphic, polymorphic_abstract, polymorphic_load, allow_partial_pks, batch, column_prefix, include_properties, exclude_properties, passive_updates, passive_deletes, confirm_deleted_rows, eager_defaults, legacy_is_orphan, _compiled_cache_size)\u001b[0m\n",
      "File \u001b[0;32m/Library/Frameworks/Python.framework/Versions/3.11/lib/python3.11/site-packages/sqlalchemy/util/deprecations.py:277\u001b[0m, in \u001b[0;36mdeprecated_params.<locals>.decorate.<locals>.warned\u001b[0;34m(fn, *args, **kwargs)\u001b[0m\n\u001b[1;32m    270\u001b[0m     \u001b[39mif\u001b[39;00m m \u001b[39min\u001b[39;00m kwargs:\n\u001b[1;32m    271\u001b[0m         _warn_with_version(\n\u001b[1;32m    272\u001b[0m             messages[m],\n\u001b[1;32m    273\u001b[0m             versions[m],\n\u001b[1;32m    274\u001b[0m             version_warnings[m],\n\u001b[1;32m    275\u001b[0m             stacklevel\u001b[39m=\u001b[39m\u001b[39m3\u001b[39m,\n\u001b[1;32m    276\u001b[0m         )\n\u001b[0;32m--> 277\u001b[0m \u001b[39mreturn\u001b[39;00m fn(\u001b[39m*\u001b[39;49margs, \u001b[39m*\u001b[39;49m\u001b[39m*\u001b[39;49mkwargs)\n",
      "File \u001b[0;32m/Library/Frameworks/Python.framework/Versions/3.11/lib/python3.11/site-packages/sqlalchemy/orm/mapper.py:863\u001b[0m, in \u001b[0;36mMapper.__init__\u001b[0;34m(self, class_, local_table, properties, primary_key, non_primary, inherits, inherit_condition, inherit_foreign_keys, always_refresh, version_id_col, version_id_generator, polymorphic_on, _polymorphic_map, polymorphic_identity, concrete, with_polymorphic, polymorphic_abstract, polymorphic_load, allow_partial_pks, batch, column_prefix, include_properties, exclude_properties, passive_updates, passive_deletes, confirm_deleted_rows, eager_defaults, legacy_is_orphan, _compiled_cache_size)\u001b[0m\n\u001b[1;32m    861\u001b[0m \u001b[39mself\u001b[39m\u001b[39m.\u001b[39m_configure_properties()\n\u001b[1;32m    862\u001b[0m \u001b[39mself\u001b[39m\u001b[39m.\u001b[39m_configure_polymorphic_setter()\n\u001b[0;32m--> 863\u001b[0m \u001b[39mself\u001b[39;49m\u001b[39m.\u001b[39;49m_configure_pks()\n\u001b[1;32m    864\u001b[0m \u001b[39mself\u001b[39m\u001b[39m.\u001b[39mregistry\u001b[39m.\u001b[39m_flag_new_mapper(\u001b[39mself\u001b[39m)\n\u001b[1;32m    865\u001b[0m \u001b[39mself\u001b[39m\u001b[39m.\u001b[39m_log(\u001b[39m\"\u001b[39m\u001b[39mconstructed\u001b[39m\u001b[39m\"\u001b[39m)\n",
      "File \u001b[0;32m/Library/Frameworks/Python.framework/Versions/3.11/lib/python3.11/site-packages/sqlalchemy/orm/mapper.py:1648\u001b[0m, in \u001b[0;36mMapper._configure_pks\u001b[0;34m(self)\u001b[0m\n\u001b[1;32m   1643\u001b[0m \u001b[39m# otherwise, see that we got a full PK for the mapped table\u001b[39;00m\n\u001b[1;32m   1644\u001b[0m \u001b[39melif\u001b[39;00m (\n\u001b[1;32m   1645\u001b[0m     \u001b[39mself\u001b[39m\u001b[39m.\u001b[39mpersist_selectable \u001b[39mnot\u001b[39;00m \u001b[39min\u001b[39;00m \u001b[39mself\u001b[39m\u001b[39m.\u001b[39m_pks_by_table\n\u001b[1;32m   1646\u001b[0m     \u001b[39mor\u001b[39;00m \u001b[39mlen\u001b[39m(\u001b[39mself\u001b[39m\u001b[39m.\u001b[39m_pks_by_table[\u001b[39mself\u001b[39m\u001b[39m.\u001b[39mpersist_selectable]) \u001b[39m==\u001b[39m \u001b[39m0\u001b[39m\n\u001b[1;32m   1647\u001b[0m ):\n\u001b[0;32m-> 1648\u001b[0m     \u001b[39mraise\u001b[39;00m sa_exc\u001b[39m.\u001b[39mArgumentError(\n\u001b[1;32m   1649\u001b[0m         \u001b[39m\"\u001b[39m\u001b[39mMapper \u001b[39m\u001b[39m%s\u001b[39;00m\u001b[39m could not assemble any primary \u001b[39m\u001b[39m\"\u001b[39m\n\u001b[1;32m   1650\u001b[0m         \u001b[39m\"\u001b[39m\u001b[39mkey columns for mapped table \u001b[39m\u001b[39m'\u001b[39m\u001b[39m%s\u001b[39;00m\u001b[39m'\u001b[39m\u001b[39m\"\u001b[39m\n\u001b[1;32m   1651\u001b[0m         \u001b[39m%\u001b[39m (\u001b[39mself\u001b[39m, \u001b[39mself\u001b[39m\u001b[39m.\u001b[39mpersist_selectable\u001b[39m.\u001b[39mdescription)\n\u001b[1;32m   1652\u001b[0m     )\n\u001b[1;32m   1653\u001b[0m \u001b[39melif\u001b[39;00m \u001b[39mself\u001b[39m\u001b[39m.\u001b[39mlocal_table \u001b[39mnot\u001b[39;00m \u001b[39min\u001b[39;00m \u001b[39mself\u001b[39m\u001b[39m.\u001b[39m_pks_by_table \u001b[39mand\u001b[39;00m \u001b[39misinstance\u001b[39m(\n\u001b[1;32m   1654\u001b[0m     \u001b[39mself\u001b[39m\u001b[39m.\u001b[39mlocal_table, schema\u001b[39m.\u001b[39mTable\n\u001b[1;32m   1655\u001b[0m ):\n\u001b[1;32m   1656\u001b[0m     util\u001b[39m.\u001b[39mwarn(\n\u001b[1;32m   1657\u001b[0m         \u001b[39m\"\u001b[39m\u001b[39mCould not assemble any primary \u001b[39m\u001b[39m\"\u001b[39m\n\u001b[1;32m   1658\u001b[0m         \u001b[39m\"\u001b[39m\u001b[39mkeys for locally mapped table \u001b[39m\u001b[39m'\u001b[39m\u001b[39m%s\u001b[39;00m\u001b[39m'\u001b[39m\u001b[39m - \u001b[39m\u001b[39m\"\u001b[39m\n\u001b[1;32m   1659\u001b[0m         \u001b[39m\"\u001b[39m\u001b[39mno rows will be persisted in this Table.\u001b[39m\u001b[39m\"\u001b[39m\n\u001b[1;32m   1660\u001b[0m         \u001b[39m%\u001b[39m \u001b[39mself\u001b[39m\u001b[39m.\u001b[39mlocal_table\u001b[39m.\u001b[39mdescription\n\u001b[1;32m   1661\u001b[0m     )\n",
      "\u001b[0;31mArgumentError\u001b[0m: Mapper Mapper[User_2(cleaned_data)] could not assemble any primary key columns for mapped table 'cleaned_data'"
     ]
    }
   ],
   "source": [
    "class User_2(Base):\n",
    "    __tablename__ = \"cleaned_data\"\n",
    "\n",
    "    attrition_flag = Column('Attrition_Flag', String, nullable=False)\n",
    "    customer_age = Column('Customer_Age', Integer, nullable=False)\n",
    "    #CHAR because it's a unique character and not a string\n",
    "    gender = Column('Gender', CHAR, nullable=False)\n",
    "    dependant_count = Column('Dependant_Count', Integer, nullable=False)\n",
    "    education_level = Column('Education_Level', String, nullable=False)\n",
    "    marital_status = Column('Marital_Status', String, nullable=False)\n",
    "    income_category = Column('Income_Category', String, nullable=False)\n",
    "    card_category = Column('Card_Category', String, nullable=False)\n",
    "    month_on_book = Column('Month_On_Book', Integer, nullable=False)\n",
    "    total_relationship_count = Column('Total_Relationship_Count', Integer, nullable=False)\n",
    "    months_inactive_12_mon = Column('Months_Inactive_12_Mon', Integer, nullable=False)\n",
    "    contacts_count_12_mon = Column('Contacts_Count_12_Mon', Integer, nullable=False)\n",
    "    credit_limit = Column('Credit_Limit', Float, nullable=False)\n",
    "    total_revolving_bal = Column('Total_Revolving_Bal', Integer, nullable=False)\n",
    "    #avg_open_to_buy = Column('Avg_Open_To_Buy', Float, nullable=False) #Normal that it's deleted ???\n",
    "    total_amt_chng_Q4_Q1 = Column('Total_Amt_Chng_Q4_Q1', Float, nullable=False)\n",
    "    total_trans_amt = Column('Total_Trans_Amt', Integer, nullable=False)\n",
    "    total_trans_ct = Column('Total_Trans_Ct', Integer, nullable=False)\n",
    "    total_ct_chng_Q4_Q1 = Column('Total_Ct_Chng_Q4_Q1', Float, nullable=False)\n",
    "    avg_utilization_ratio = Column('Avg_Utilization_Ratio', Float, nullable=False)\n",
    "    \n",
    "    def __init__(self, attrition_flag : str, customer_age : int, gender : str, dependant_count : int, education_level : str,\n",
    "                    marital_status : str, income_category : str, card_category : str, month_on_book : int, total_relationshiop_count : int,\n",
    "                    months_inactive_12_mon : int, contacts_count_12_mon : int, credit_limit : float, total_revolving_bal : int, \n",
    "                    total_amt_chng_Q4_Q1 : float, total_trans_amt : int, total_trans_ct : int, total_ct_chng_Q4_Q1 : float,\n",
    "                    avg_utilization_ratio : float):\n",
    "        \n",
    "        self.attrition_flag = attrition_flag\n",
    "        self.customer_age = customer_age\n",
    "        self.gender = gender\n",
    "        self.dependant_count = dependant_count\n",
    "        self.education_level = education_level\n",
    "        self.marital_status = marital_status\n",
    "        self.income_category = income_category\n",
    "        self.card_category = card_category\n",
    "        self.month_on_book = month_on_book\n",
    "        self.total_relationship_count = total_relationshiop_count\n",
    "        self.months_inactive_12_mon = months_inactive_12_mon\n",
    "        self.contacts_count_12_mon = contacts_count_12_mon\n",
    "        self.credit_limit = credit_limit\n",
    "        self.total_revolving_bal = total_revolving_bal\n",
    "        #self.avg_open_to_buy = avg_open_to_buy\n",
    "        self.total_amt_chng_Q4_Q1 = total_amt_chng_Q4_Q1\n",
    "        self.total_trans_amt = total_trans_amt\n",
    "        self.total_trans_ct = total_trans_ct\n",
    "        self.total_ct_chng_Q4_Q1 = total_ct_chng_Q4_Q1\n",
    "        self.avg_utilization_ratio = avg_utilization_ratio"
   ]
  },
  {
   "cell_type": "code",
   "execution_count": 89,
   "metadata": {},
   "outputs": [
    {
     "data": {
      "text/plain": [
       "(10110, 19)"
      ]
     },
     "metadata": {},
     "output_type": "display_data"
    }
   ],
   "source": [
    "df_cleaned = pd.read_csv(\"2_data cleaning/NoDummies_Cleaned_data.csv\")\n",
    "\n",
    "#Deleting this column\n",
    "del df_cleaned['Unnamed: 0']\n",
    "display(df_cleaned.shape)\n",
    "#Creating the new table\n",
    "meta = MetaData()\n",
    "\n",
    "cleaned_data = Table('cleaned_data', meta,\n",
    "    Column(\"Attrition_Flag\", String),\n",
    "    Column(\"Customer_Age\", Integer),\n",
    "    Column(\"Gender\", CHAR),\n",
    "    Column(\"Dependent_Count\", Integer),\n",
    "    Column('Education_Level', String),\n",
    "    Column('Marital_Status', String),\n",
    "    Column('Income_Category', String),\n",
    "    Column('Card_Category', String),\n",
    "    Column('Months_on_book', Integer),\n",
    "    Column('Total_Relationship_Count', Integer),\n",
    "    Column('Month_Inactive_12_mon', Integer),\n",
    "    Column('Contacts_Count_12_mon', Integer),\n",
    "    Column('Credit_Limit', Float),\n",
    "    Column('Total_Revolving_Bal', Integer),\n",
    "    Column('Total_Amt_Chng_Q4_Q1', Float),\n",
    "    Column('Total_Trans_Amt', Integer),\n",
    "    Column('Total_Trans_Ct', Integer),\n",
    "    Column('Total_Ct_Chng_Q4_Q1', Float),\n",
    "    Column('Avg_Utilization_Ratio', Float))\n",
    "\n",
    "#The create_all() function uses the engine object to create all the defined table objects and stores the information in metadata.\n",
    "meta.create_all(engine)\n",
    "\n",
    "#for row in df_cleaned.iterrows():\n",
    "#    cleaned_data = \n",
    "\n"
   ]
  },
  {
   "attachments": {},
   "cell_type": "markdown",
   "metadata": {},
   "source": [
    "# Querying informations from the DB"
   ]
  },
  {
   "cell_type": "code",
   "execution_count": 86,
   "metadata": {},
   "outputs": [
    {
     "name": "stdout",
     "output_type": "stream",
     "text": [
      "['cleaned_data', 'raw_data']\n"
     ]
    }
   ],
   "source": [
    "from sqlalchemy import inspect\n",
    "\n",
    "inspector = inspect(engine)\n",
    "\n",
    "# Get the tables'list in the DB\n",
    "\n",
    "print(inspector.get_table_names())"
   ]
  },
  {
   "attachments": {},
   "cell_type": "markdown",
   "metadata": {},
   "source": [
    "## Print the first 10 rows of the table raw_data"
   ]
  },
  {
   "cell_type": "code",
   "execution_count": 69,
   "metadata": {},
   "outputs": [
    {
     "name": "stdout",
     "output_type": "stream",
     "text": [
      "[{'name': 'User', 'type': <class '__main__.User'>, 'aliased': False, 'expr': <class '__main__.User'>, 'entity': <class '__main__.User'>}]\n"
     ]
    }
   ],
   "source": [
    "first_entry = session.query(User)\n",
    "\n",
    "/Users/cecilewinand/Desktop/BeCode_Projects/Churn_Prediction_Becode/DB_from_scratch.db\n",
    "\n",
    "print(first_entry.column_descriptions)"
   ]
  }
 ],
 "metadata": {
  "kernelspec": {
   "display_name": "Python 3",
   "language": "python",
   "name": "python3"
  },
  "language_info": {
   "codemirror_mode": {
    "name": "ipython",
    "version": 3
   },
   "file_extension": ".py",
   "mimetype": "text/x-python",
   "name": "python",
   "nbconvert_exporter": "python",
   "pygments_lexer": "ipython3",
   "version": "3.11.0"
  },
  "orig_nbformat": 4,
  "vscode": {
   "interpreter": {
    "hash": "aee8b7b246df8f9039afb4144a1f6fd8d2ca17a180786b69acc140d282b71a49"
   }
  }
 },
 "nbformat": 4,
 "nbformat_minor": 2
}
